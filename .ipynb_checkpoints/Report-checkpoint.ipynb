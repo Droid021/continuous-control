{
 "cells": [
  {
   "cell_type": "markdown",
   "metadata": {},
   "source": [
    "# Continuous Control"
   ]
  },
  {
   "cell_type": "markdown",
   "metadata": {},
   "source": [
    "This unity environment consists of an arm that moes to target locations, the agent gets a reward of +0-1 for each point the arm is at the goal position.\n",
    "The goal of the agent is to maintain its position at the target location"
   ]
  },
  {
   "cell_type": "code",
   "execution_count": 3,
   "metadata": {},
   "outputs": [
    {
     "name": "stderr",
     "output_type": "stream",
     "text": [
      "INFO:unityagents:\n",
      "'Academy' started successfully!\n",
      "Unity Academy name: Academy\n",
      "        Number of Brains: 1\n",
      "        Number of External Brains : 1\n",
      "        Lesson number : 0\n",
      "        Reset Parameters :\n",
      "\t\tgoal_size -> 5.0\n",
      "\t\tgoal_speed -> 1.0\n",
      "Unity brain name: ReacherBrain\n",
      "        Number of Visual Observations (per agent): 0\n",
      "        Vector Observation space type: continuous\n",
      "        Vector Observation space size (per agent): 33\n",
      "        Number of stacked Vector Observation: 1\n",
      "        Vector Action space type: continuous\n",
      "        Vector Action space size (per agent): 4\n",
      "        Vector Action descriptions: , , , \n"
     ]
    }
   ],
   "source": [
    "env = UnityEnvironment(file_name='../Reacher_Linux/Reacher.x86_64', no_graphics=True)"
   ]
  },
  {
   "cell_type": "markdown",
   "metadata": {},
   "source": [
    "### Examine the State and Action Spaces\n",
    "\n",
    "In this environment, a double-jointed arm can move to target locations. A reward of `+0.1` is provided for each step that the agent's hand is in the goal location. Thus, the goal of your agent is to maintain its position at the target location for as many time steps as possible.\n",
    "\n",
    "The observation space consists of `33` variables corresponding to position, rotation, velocity, and angular velocities of the arm.  Each action is a vector with four numbers, corresponding to torque applicable to two joints.  Every entry in the action vector must be a number between `-1` and `1`(thus the reason for using a tanh activation function).."
   ]
  },
  {
   "cell_type": "code",
   "execution_count": 5,
   "metadata": {},
   "outputs": [
    {
     "name": "stdout",
     "output_type": "stream",
     "text": [
      "Number of agents: 1\n",
      "Size of each action: 4\n",
      "There are 1 agents. Each observes a state with length: 33\n",
      "The state for the first agent looks like: [ 0.00000000e+00 -4.00000000e+00  0.00000000e+00  1.00000000e+00\n",
      " -0.00000000e+00 -0.00000000e+00 -4.37113883e-08  0.00000000e+00\n",
      "  0.00000000e+00  0.00000000e+00  0.00000000e+00  0.00000000e+00\n",
      "  0.00000000e+00  0.00000000e+00 -1.00000000e+01  0.00000000e+00\n",
      "  1.00000000e+00 -0.00000000e+00 -0.00000000e+00 -4.37113883e-08\n",
      "  0.00000000e+00  0.00000000e+00  0.00000000e+00  0.00000000e+00\n",
      "  0.00000000e+00  0.00000000e+00  5.75471878e+00 -1.00000000e+00\n",
      "  5.55726671e+00  0.00000000e+00  1.00000000e+00  0.00000000e+00\n",
      " -1.68164849e-01]\n"
     ]
    }
   ],
   "source": [
    "# reset the environment\n",
    "env_info = env.reset(train_mode=True)[brain_name]\n",
    "\n",
    "# number of agents\n",
    "num_agents = len(env_info.agents)\n",
    "print('Number of agents:', num_agents)\n",
    "\n",
    "# size of each action\n",
    "action_size = brain.vector_action_space_size\n",
    "print('Size of each action:', action_size)\n",
    "\n",
    "# examine the state space \n",
    "states = env_info.vector_observations\n",
    "state_size = states.shape[1]\n",
    "print('There are {} agents. Each observes a state with length: {}'.format(states.shape[0], state_size))\n",
    "print('The state for the first agent looks like:', states[0])"
   ]
  },
  {
   "cell_type": "markdown",
   "metadata": {},
   "source": [
    "### Model"
   ]
  },
  {
   "cell_type": "markdown",
   "metadata": {},
   "source": [
    "The architecture is comprised of two neural networks(Actor and Critic) defined in `model.py` \n",
    "\n",
    "Both the Actor and critic network takes in state_size (int): Dimension of each state, action_size (int): Dimension of each action, seed (int): Random seed, fc1_units (int): Number of nodes in first hidden layer, fc2_units (int): Number of nodes in second hidden layer.\n",
    "\n",
    "Number of nodes in first hidden layer=256, Number of nodes in second hidden layer=128"
   ]
  },
  {
   "cell_type": "markdown",
   "metadata": {},
   "source": [
    "The agent continues episodical training via the the ddpg agent until `n_episoses` is reached or until the environment is solved. The  environment is considered solved when the average reward (over the last 100 episodes) is at least +30.0. Note if the number of agents is >1 then the average reward of all agents at that step is used.\n",
    "\n",
    "Each episode continues until `max_t` time-steps is reached or until the environment says it's done.\n",
    "\n",
    "As above, a reward of +0.1 is provided for each step that the agent's hand is in the goal location.\n",
    "\n",
    "The DDPG agent is contained in `ddpg_agent.py`\n",
    "\n",
    "For each time step and agent the Agent acts upon the state utilising a shared (at class level) `replay_buffer`, `actor_local`, `actor_target`, `actor_optimizer`, `critic_local`, `criticl_target` and `critic_optimizer` networks.\n",
    "\n",
    "### DDPG Hyper Parameters\n",
    "- n_episodes (int): maximum number of training episodes\n",
    "- max_t (int): maximum number of timesteps per episode\n",
    "- num_agents: number of agents in the environment\n",
    "\n",
    "Where\n",
    "`n_episodes=2000`, `max_t=1000`\n",
    "\n",
    "### DDPG Agent Hyper Parameters\n",
    "\n",
    "- BUFFER_SIZE (int): replay buffer size\n",
    "- BATCH_SIZ (int): mini batch size\n",
    "- GAMMA (float): discount factor\n",
    "- TAU (float): for soft update of target parameters\n",
    "- LR_ACTOR (float): learning rate for optimizer\n",
    "- LR_CRITIC (float): learning rate for optimizer\n",
    "- WEIGHT_DECAY (float): L2 weight decay\n",
    "- N_TIME_STEPS (int): every n time step do update\n",
    "\n",
    "\n",
    "Where \n",
    "`BUFFER_SIZE = int(1e6)`, \n",
    "`BATCH_SIZE = 128`, \n",
    "`GAMMA = 0.99`, \n",
    "`TAU = 1e-3`, \n",
    "`LR_ACTOR = 1e-4`, \n",
    "`LR_CRITIC = 1e-4`,\n",
    "`WEIGHT_DECAY = 0.0`,\n",
    "`N_TIME_STEPS = 20`"
   ]
  },
  {
   "cell_type": "code",
   "execution_count": 7,
   "metadata": {},
   "outputs": [
    {
     "data": {
      "image/png": "[encoded data removed]",
      "text/plain": [
       "<Figure size 432x288 with 1 Axes>"
      ]
     },
     "metadata": {
      "needs_background": "light"
     },
     "output_type": "display_data"
    }
   ],
   "source": [
    "Plot of score achieved against the number of episodes"
   ]
  }
 ],
 "metadata": {
  "kernelspec": {
   "display_name": "drlnd",
   "language": "python",
   "name": "drlnd"
  },
  "language_info": {
   "codemirror_mode": {
    "name": "ipython",
    "version": 3
   },
   "file_extension": ".py",
   "mimetype": "text/x-python",
   "name": "python",
   "nbconvert_exporter": "python",
   "pygments_lexer": "ipython3",
   "version": "3.6.10"
  }
 },
 "nbformat": 4,
 "nbformat_minor": 2
}
