{
 "cells": [
  {
   "cell_type": "markdown",
   "metadata": {},
   "source": [
    "# Continuous Control\n",
    "\n",
    "---\n",
    "\n",
    "You are welcome to use this coding environment to train your agent for the project.  Follow the instructions below to get started!\n",
    "\n",
    "### 1. Start the Environment\n",
    "\n",
    "Run the next code cell to install a few packages.  This line will take a few minutes to run!"
   ]
  },
  {
   "cell_type": "code",
   "execution_count": 1,
   "metadata": {},
   "outputs": [
    {
     "name": "stdout",
     "output_type": "stream",
     "text": [
      "\u001b[31mtensorflow 1.7.1 has requirement numpy>=1.13.3, but you'll have numpy 1.12.1 which is incompatible.\u001b[0m\r\n",
      "\u001b[31mipython 6.5.0 has requirement prompt-toolkit<2.0.0,>=1.0.15, but you'll have prompt-toolkit 3.0.5 which is incompatible.\u001b[0m\r\n"
     ]
    }
   ],
   "source": [
    "!pip -q install ./python"
   ]
  },
  {
   "cell_type": "markdown",
   "metadata": {},
   "source": [
    "The environments corresponding to both versions of the environment are already saved in the Workspace and can be accessed at the file paths provided below.  \n",
    "\n",
    "Please select one of the two options below for loading the environment."
   ]
  },
  {
   "cell_type": "code",
   "execution_count": 2,
   "metadata": {},
   "outputs": [],
   "source": [
    "from unityagents import UnityEnvironment\n",
    "import numpy as np\n",
    "import time\n",
    "import torch\n",
    "import matplotlib.pyplot as plt\n",
    "from agent import Agent\n",
    "from collections import deque\n",
    "%matplotlib inline"
   ]
  },
  {
   "cell_type": "code",
   "execution_count": 3,
   "metadata": {},
   "outputs": [
    {
     "name": "stderr",
     "output_type": "stream",
     "text": [
      "INFO:unityagents:\n",
      "'Academy' started successfully!\n",
      "Unity Academy name: Academy\n",
      "        Number of Brains: 1\n",
      "        Number of External Brains : 1\n",
      "        Lesson number : 0\n",
      "        Reset Parameters :\n",
      "\t\tgoal_speed -> 1.0\n",
      "\t\tgoal_size -> 5.0\n",
      "Unity brain name: ReacherBrain\n",
      "        Number of Visual Observations (per agent): 0\n",
      "        Vector Observation space type: continuous\n",
      "        Vector Observation space size (per agent): 33\n",
      "        Number of stacked Vector Observation: 1\n",
      "        Vector Action space type: continuous\n",
      "        Vector Action space size (per agent): 4\n",
      "        Vector Action descriptions: , , , \n"
     ]
    }
   ],
   "source": [
    "# select this option to load version 1 (with a single agent) of the environment\n",
    "env = UnityEnvironment(file_name='/data/Reacher_One_Linux_NoVis/Reacher_One_Linux_NoVis.x86_64')\n",
    "\n",
    "# select this option to load version 2 (with 20 agents) of the environment\n",
    "# env = UnityEnvironment(file_name='/data/Reacher_Linux_NoVis/Reacher.x86_64')"
   ]
  },
  {
   "cell_type": "markdown",
   "metadata": {},
   "source": [
    "Environments contain **_brains_** which are responsible for deciding the actions of their associated agents. Here we check for the first brain available, and set it as the default brain we will be controlling from Python."
   ]
  },
  {
   "cell_type": "code",
   "execution_count": 4,
   "metadata": {},
   "outputs": [],
   "source": [
    "# get the default brain\n",
    "brain_name = env.brain_names[0]\n",
    "brain = env.brains[brain_name]"
   ]
  },
  {
   "cell_type": "markdown",
   "metadata": {},
   "source": [
    "### 2. Examine the State and Action Spaces\n",
    "\n",
    "Run the code cell below to print some information about the environment."
   ]
  },
  {
   "cell_type": "code",
   "execution_count": 5,
   "metadata": {},
   "outputs": [
    {
     "name": "stdout",
     "output_type": "stream",
     "text": [
      "Number of agents: 1\n",
      "Size of each action: 4\n",
      "There are 1 agents. Each observes a state with length: 33\n",
      "The state for the first agent looks like: [  0.00000000e+00  -4.00000000e+00   0.00000000e+00   1.00000000e+00\n",
      "  -0.00000000e+00  -0.00000000e+00  -4.37113883e-08   0.00000000e+00\n",
      "   0.00000000e+00   0.00000000e+00   0.00000000e+00   0.00000000e+00\n",
      "   0.00000000e+00   0.00000000e+00  -1.00000000e+01   0.00000000e+00\n",
      "   1.00000000e+00  -0.00000000e+00  -0.00000000e+00  -4.37113883e-08\n",
      "   0.00000000e+00   0.00000000e+00   0.00000000e+00   0.00000000e+00\n",
      "   0.00000000e+00   0.00000000e+00   5.75471878e+00  -1.00000000e+00\n",
      "   5.55726671e+00   0.00000000e+00   1.00000000e+00   0.00000000e+00\n",
      "  -1.68164849e-01]\n"
     ]
    }
   ],
   "source": [
    "# reset the environment\n",
    "env_info = env.reset(train_mode=True)[brain_name]\n",
    "\n",
    "# number of agents\n",
    "num_agents = len(env_info.agents)\n",
    "print('Number of agents:', num_agents)\n",
    "\n",
    "# size of each action\n",
    "action_size = brain.vector_action_space_size\n",
    "print('Size of each action:', action_size)\n",
    "\n",
    "# examine the state space \n",
    "states = env_info.vector_observations\n",
    "state_size = states.shape[1]\n",
    "print('There are {} agents. Each observes a state with length: {}'.format(states.shape[0], state_size))\n",
    "print('The state for the first agent looks like:', states[0])"
   ]
  },
  {
   "cell_type": "markdown",
   "metadata": {},
   "source": [
    "### 3. Take Random Actions in the Environment\n",
    "\n",
    "In the next code cell, you will learn how to use the Python API to control the agent and receive feedback from the environment.\n",
    "\n",
    "Note that **in this coding environment, you will not be able to watch the agents while they are training**, and you should set `train_mode=True` to restart the environment."
   ]
  },
  {
   "cell_type": "code",
   "execution_count": 6,
   "metadata": {},
   "outputs": [
    {
     "name": "stdout",
     "output_type": "stream",
     "text": [
      "Total score (averaged over agents) this episode: 0.17999999597668648\n"
     ]
    }
   ],
   "source": [
    "env_info = env.reset(train_mode=True)[brain_name]      # reset the environment    \n",
    "states = env_info.vector_observations                  # get the current state (for each agent)\n",
    "scores = np.zeros(num_agents)                          # initialize the score (for each agent)\n",
    "while True:\n",
    "    actions = np.random.randn(num_agents, action_size) # select an action (for each agent)\n",
    "    actions = np.clip(actions, -1, 1)                  # all actions between -1 and 1\n",
    "    env_info = env.step(actions)[brain_name]           # send all actions to tne environment\n",
    "    next_states = env_info.vector_observations         # get next state (for each agent)\n",
    "    rewards = env_info.rewards                         # get reward (for each agent)\n",
    "    dones = env_info.local_done                        # see if episode finished\n",
    "    scores += env_info.rewards                         # update the score (for each agent)\n",
    "    states = next_states                               # roll over states to next time step\n",
    "    if np.any(dones):                                  # exit loop if episode finished\n",
    "        break\n",
    "print('Total score (averaged over agents) this episode: {}'.format(np.mean(scores)))"
   ]
  },
  {
   "cell_type": "code",
   "execution_count": null,
   "metadata": {},
   "outputs": [],
   "source": []
  },
  {
   "cell_type": "code",
   "execution_count": 7,
   "metadata": {},
   "outputs": [],
   "source": [
    "agent = Agent(state_size=state_size, action_size=action_size, random_seed=42)\n",
    "n_episodes=1000\n",
    "print_every=100\n",
    "scores_deque = deque(maxlen=print_every)\n",
    "scores = np.zeros(num_agents)"
   ]
  },
  {
   "cell_type": "code",
   "execution_count": null,
   "metadata": {},
   "outputs": [
    {
     "name": "stdout",
     "output_type": "stream",
     "text": [
      "Episode 1\tAverage Score: 0.15\tMax Score: 0.15\tMin Score: 0.15time:  2.801673412322998\n",
      "Episode 2\tAverage Score: 0.07\tMax Score: 0.00\tMin Score: 0.00time:  18.2817223072052\n",
      "Episode 3\tAverage Score: 0.14\tMax Score: 0.27\tMin Score: 0.27time:  18.6023530960083\n",
      "Episode 4\tAverage Score: 0.27\tMax Score: 0.67\tMin Score: 0.67time:  18.575521230697632\n",
      "Episode 5\tAverage Score: 0.45\tMax Score: 1.16\tMin Score: 1.16time:  18.856467247009277\n",
      "Episode 6\tAverage Score: 0.47\tMax Score: 0.56\tMin Score: 0.56time:  18.818478107452393\n",
      "Episode 7\tAverage Score: 0.64\tMax Score: 1.68\tMin Score: 1.68time:  18.70531415939331\n",
      "Episode 8\tAverage Score: 0.67\tMax Score: 0.91\tMin Score: 0.91time:  18.656596183776855\n",
      "Episode 9\tAverage Score: 0.61\tMax Score: 0.09\tMin Score: 0.09time:  18.918962240219116\n",
      "Episode 10\tAverage Score: 0.60\tMax Score: 0.55\tMin Score: 0.55time:  18.76150107383728\n",
      "Episode 11\tAverage Score: 0.55\tMax Score: 0.00\tMin Score: 0.00time:  18.920820713043213\n",
      "Episode 12\tAverage Score: 0.51\tMax Score: 0.09\tMin Score: 0.09time:  18.78950810432434\n",
      "Episode 13\tAverage Score: 0.49\tMax Score: 0.20\tMin Score: 0.20time:  19.014161586761475\n",
      "Episode 14\tAverage Score: 0.47\tMax Score: 0.25\tMin Score: 0.25time:  18.93815803527832\n",
      "Episode 15\tAverage Score: 0.47\tMax Score: 0.49\tMin Score: 0.49time:  19.069000005722046\n",
      "Episode 16\tAverage Score: 0.46\tMax Score: 0.25\tMin Score: 0.25time:  19.088648557662964\n",
      "Episode 17\tAverage Score: 0.51\tMax Score: 1.39\tMin Score: 1.39time:  19.075119495391846\n",
      "Episode 18\tAverage Score: 0.62\tMax Score: 2.46\tMin Score: 2.46time:  19.46203351020813\n",
      "Episode 19\tAverage Score: 0.59\tMax Score: 0.12\tMin Score: 0.12time:  19.075523376464844\n",
      "Episode 20\tAverage Score: 0.59\tMax Score: 0.48\tMin Score: 0.48time:  19.232971906661987\n",
      "Episode 21\tAverage Score: 0.56\tMax Score: 0.00\tMin Score: 0.00time:  19.032835721969604\n",
      "Episode 22\tAverage Score: 0.55\tMax Score: 0.28\tMin Score: 0.28time:  19.114747524261475\n",
      "Episode 23\tAverage Score: 0.56\tMax Score: 0.90\tMin Score: 0.90time:  19.21007013320923\n",
      "Episode 24\tAverage Score: 0.57\tMax Score: 0.66\tMin Score: 0.66time:  19.321598529815674\n",
      "Episode 25\tAverage Score: 0.58\tMax Score: 0.80\tMin Score: 0.80time:  19.1587975025177\n",
      "Episode 26\tAverage Score: 0.57\tMax Score: 0.42\tMin Score: 0.42time:  19.27537178993225\n",
      "Episode 27\tAverage Score: 0.56\tMax Score: 0.33\tMin Score: 0.33time:  19.36784291267395\n",
      "Episode 28\tAverage Score: 0.55\tMax Score: 0.30\tMin Score: 0.30time:  19.251523971557617\n",
      "Episode 29\tAverage Score: 0.58\tMax Score: 1.43\tMin Score: 1.43time:  19.167486429214478\n",
      "Episode 30\tAverage Score: 0.57\tMax Score: 0.20\tMin Score: 0.20time:  19.267627477645874\n",
      "Episode 31\tAverage Score: 0.57\tMax Score: 0.54\tMin Score: 0.54time:  19.298566579818726\n",
      "Episode 32\tAverage Score: 0.56\tMax Score: 0.33\tMin Score: 0.33time:  19.548372745513916\n",
      "Episode 33\tAverage Score: 0.58\tMax Score: 1.28\tMin Score: 1.28time:  19.13268780708313\n",
      "Episode 34\tAverage Score: 0.57\tMax Score: 0.25\tMin Score: 0.25time:  19.5633225440979\n",
      "Episode 35\tAverage Score: 0.59\tMax Score: 1.21\tMin Score: 1.21time:  19.457961320877075\n",
      "Episode 36\tAverage Score: 0.60\tMax Score: 0.86\tMin Score: 0.86time:  19.528823375701904\n",
      "Episode 37\tAverage Score: 0.60\tMax Score: 0.69\tMin Score: 0.69time:  19.542667627334595\n",
      "Episode 38\tAverage Score: 0.62\tMax Score: 1.13\tMin Score: 1.13time:  19.437030792236328\n",
      "Episode 39\tAverage Score: 0.62\tMax Score: 0.81\tMin Score: 0.81time:  19.69665551185608\n",
      "Episode 40\tAverage Score: 0.62\tMax Score: 0.47\tMin Score: 0.47time:  19.550079107284546\n",
      "Episode 41\tAverage Score: 0.61\tMax Score: 0.30\tMin Score: 0.30time:  19.688413619995117\n",
      "Episode 42\tAverage Score: 0.61\tMax Score: 0.86\tMin Score: 0.86time:  19.523773670196533\n",
      "Episode 43\tAverage Score: 0.64\tMax Score: 1.83\tMin Score: 1.83time:  19.74126124382019\n",
      "Episode 44\tAverage Score: 0.64\tMax Score: 0.73\tMin Score: 0.73time:  19.650084972381592\n",
      "Episode 45\tAverage Score: 0.64\tMax Score: 0.38\tMin Score: 0.38time:  19.51272964477539\n",
      "Episode 46\tAverage Score: 0.63\tMax Score: 0.08\tMin Score: 0.08time:  19.601003170013428\n",
      "Episode 47\tAverage Score: 0.63\tMax Score: 0.98\tMin Score: 0.98time:  19.47554874420166\n",
      "Episode 48\tAverage Score: 0.66\tMax Score: 1.78\tMin Score: 1.78time:  19.697842597961426\n",
      "Episode 49\tAverage Score: 0.69\tMax Score: 2.17\tMin Score: 2.17time:  19.39704990386963\n",
      "Episode 50\tAverage Score: 0.69\tMax Score: 0.50\tMin Score: 0.50time:  19.573472499847412\n",
      "Episode 51\tAverage Score: 0.68\tMax Score: 0.32\tMin Score: 0.32time:  19.38402533531189\n",
      "Episode 52\tAverage Score: 0.68\tMax Score: 0.71\tMin Score: 0.71time:  19.431269884109497\n",
      "Episode 53\tAverage Score: 0.69\tMax Score: 1.17\tMin Score: 1.17time:  19.52802038192749\n",
      "Episode 54\tAverage Score: 0.68\tMax Score: 0.42\tMin Score: 0.42time:  19.59546661376953\n",
      "Episode 55\tAverage Score: 0.68\tMax Score: 0.72\tMin Score: 0.72time:  19.490314245224\n",
      "Episode 56\tAverage Score: 0.68\tMax Score: 0.66\tMin Score: 0.66time:  19.62834906578064\n",
      "Episode 57\tAverage Score: 0.69\tMax Score: 0.98\tMin Score: 0.98time:  19.517719984054565\n",
      "Episode 58\tAverage Score: 0.70\tMax Score: 1.22\tMin Score: 1.22time:  19.740337371826172\n",
      "Episode 59\tAverage Score: 0.70\tMax Score: 0.98\tMin Score: 0.98time:  19.62448215484619\n",
      "Episode 60\tAverage Score: 0.71\tMax Score: 1.01\tMin Score: 1.01time:  19.5071222782135\n",
      "Episode 61\tAverage Score: 0.72\tMax Score: 1.37\tMin Score: 1.37time:  19.70151948928833\n",
      "Episode 62\tAverage Score: 0.71\tMax Score: 0.00\tMin Score: 0.00time:  19.846086978912354\n",
      "Episode 63\tAverage Score: 0.74\tMax Score: 2.61\tMin Score: 2.61time:  19.839016437530518\n",
      "Episode 64\tAverage Score: 0.74\tMax Score: 0.72\tMin Score: 0.72time:  19.876689672470093\n",
      "Episode 65\tAverage Score: 0.74\tMax Score: 0.98\tMin Score: 0.98time:  19.772552490234375\n",
      "Episode 66\tAverage Score: 0.74\tMax Score: 0.86\tMin Score: 0.86time:  19.815979480743408\n",
      "Episode 67\tAverage Score: 0.75\tMax Score: 0.97\tMin Score: 0.97time:  19.97788119316101\n",
      "Episode 68\tAverage Score: 0.79\tMax Score: 3.95\tMin Score: 3.95time:  19.840195417404175\n",
      "Episode 69\tAverage Score: 0.84\tMax Score: 3.99\tMin Score: 3.99time:  19.94466280937195\n",
      "Episode 70\tAverage Score: 0.85\tMax Score: 1.63\tMin Score: 1.63time:  19.888986825942993\n",
      "Episode 71\tAverage Score: 0.86\tMax Score: 1.67\tMin Score: 1.67time:  19.970623016357422\n",
      "Episode 72\tAverage Score: 0.88\tMax Score: 2.09\tMin Score: 2.09time:  20.12865424156189\n",
      "Episode 73\tAverage Score: 0.89\tMax Score: 1.54\tMin Score: 1.54time:  19.992108821868896\n"
     ]
    }
   ],
   "source": [
    "score_plot = []\n",
    "total_episodes = []\n",
    "for i_episode in range(1, n_episodes+1):\n",
    "    env_info = env.reset(train_mode=True)[brain_name]\n",
    "    agent.reset()\n",
    "    start = time.time()\n",
    "    t = 0\n",
    "    scores = np.zeros(num_agents)\n",
    "    while True:\n",
    "        states = env_info.vector_observations      \n",
    "        actions = agent.act(states)\n",
    "        env_info = env.step(actions)[brain_name]\n",
    "        rewards = env_info.rewards                   \n",
    "        scores += rewards\n",
    "        next_states = env_info.vector_observations       \n",
    "        dones = env_info.local_done                       \n",
    "        t += 1\n",
    "        for state, action, reward, next_state, done in zip(states, actions, rewards, next_states, dones):\n",
    "            agent.step(state, action, reward, next_state, done, t)\n",
    "        if any(env_info.local_done):\n",
    "            break\n",
    "    scores_deque.append(np.mean(scores))\n",
    "    score_plot.append(np.mean(scores_deque))\n",
    "    total_episodes.append(i_episode)\n",
    "    print('\\rEpisode {}\\tAverage Score: {:.2f}\\tMax Score: {:.2f}\\tMin Score: {:.2f}'.format(i_episode, np.mean(scores_deque), np.max(scores), np.min(scores)), end=\"\")\n",
    "    end = time.time()\n",
    "    print('time: ', (end - start))\n",
    "    torch.save(agent.actor_local.state_dict(), 'checkpoint_actor.pth')\n",
    "    torch.save(agent.critic_local.state_dict(), 'checkpoint_critic.pth')\n",
    "\n",
    "    if np.mean(scores_deque)>=30:\n",
    "        print('\\nEnvironment solved in {:d} episodes!\\tAverage Score: {:.2f}'.format(i_episode, np.mean(scores_deque)))\n",
    "        torch.save(agent.actor_local.state_dict(), 'checkpoint_actor.pth')\n",
    "        torch.save(agent.critic_local.state_dict(), 'checkpoint_critic.pth')\n",
    "        break"
   ]
  },
  {
   "cell_type": "code",
   "execution_count": null,
   "metadata": {},
   "outputs": [],
   "source": [
    "fig = plt.figure()\n",
    "ax = fig.add_subplot(111)\n",
    "plt.plot(total_episodes, score_plot)\n",
    "plt.ylabel('Average Score')\n",
    "plt.xlabel('Episode #')\n",
    "plt.show()"
   ]
  },
  {
   "cell_type": "code",
   "execution_count": null,
   "metadata": {},
   "outputs": [],
   "source": [
    "env.close()"
   ]
  }
 ],
 "metadata": {
  "kernelspec": {
   "display_name": "Python 3",
   "language": "python",
   "name": "python3"
  },
  "language_info": {
   "codemirror_mode": {
    "name": "ipython",
    "version": 3
   },
   "file_extension": ".py",
   "mimetype": "text/x-python",
   "name": "python",
   "nbconvert_exporter": "python",
   "pygments_lexer": "ipython3",
   "version": "3.7.6"
  }
 },
 "nbformat": 4,
 "nbformat_minor": 2
}
